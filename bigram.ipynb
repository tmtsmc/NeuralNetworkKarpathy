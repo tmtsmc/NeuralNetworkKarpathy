{
 "cells": [
  {
   "cell_type": "code",
   "execution_count": 1,
   "id": "385851a3",
   "metadata": {
    "execution": {
     "iopub.execute_input": "2023-05-28T20:51:59.044807Z",
     "iopub.status.busy": "2023-05-28T20:51:59.044487Z",
     "iopub.status.idle": "2023-05-28T20:51:59.272247Z",
     "shell.execute_reply": "2023-05-28T20:51:59.270965Z"
    },
    "papermill": {
     "duration": 0.236709,
     "end_time": "2023-05-28T20:51:59.274867",
     "exception": false,
     "start_time": "2023-05-28T20:51:59.038158",
     "status": "completed"
    },
    "tags": []
   },
   "outputs": [],
   "source": [
    "from urllib.request import urlopen\n",
    "words = urlopen(\"https://raw.githubusercontent.com/karpathy/makemore/master/names.txt\").read().decode().splitlines()"
   ]
  },
  {
   "cell_type": "code",
   "execution_count": 2,
   "id": "400b5d81",
   "metadata": {
    "execution": {
     "iopub.execute_input": "2023-05-28T20:51:59.284830Z",
     "iopub.status.busy": "2023-05-28T20:51:59.284438Z",
     "iopub.status.idle": "2023-05-28T20:52:03.033631Z",
     "shell.execute_reply": "2023-05-28T20:52:03.032710Z"
    },
    "papermill": {
     "duration": 3.756918,
     "end_time": "2023-05-28T20:52:03.036137",
     "exception": false,
     "start_time": "2023-05-28T20:51:59.279219",
     "status": "completed"
    },
    "tags": []
   },
   "outputs": [],
   "source": [
    "import torch\n",
    "import torch.nn.functional as F\n",
    "import matplotlib.pyplot as plt"
   ]
  },
  {
   "cell_type": "code",
   "execution_count": 3,
   "id": "63b81e32",
   "metadata": {
    "execution": {
     "iopub.execute_input": "2023-05-28T20:52:03.046211Z",
     "iopub.status.busy": "2023-05-28T20:52:03.045670Z",
     "iopub.status.idle": "2023-05-28T20:52:03.053576Z",
     "shell.execute_reply": "2023-05-28T20:52:03.052222Z"
    },
    "papermill": {
     "duration": 0.015073,
     "end_time": "2023-05-28T20:52:03.055671",
     "exception": false,
     "start_time": "2023-05-28T20:52:03.040598",
     "status": "completed"
    },
    "tags": []
   },
   "outputs": [
    {
     "data": {
      "text/plain": [
       "['emma',\n",
       " 'olivia',\n",
       " 'ava',\n",
       " 'isabella',\n",
       " 'sophia',\n",
       " 'charlotte',\n",
       " 'mia',\n",
       " 'amelia',\n",
       " 'harper',\n",
       " 'evelyn']"
      ]
     },
     "execution_count": 3,
     "metadata": {},
     "output_type": "execute_result"
    }
   ],
   "source": [
    "words[:10]"
   ]
  },
  {
   "cell_type": "code",
   "execution_count": 4,
   "id": "fa336b93",
   "metadata": {
    "collapsed": true,
    "execution": {
     "iopub.execute_input": "2023-05-28T20:52:03.065830Z",
     "iopub.status.busy": "2023-05-28T20:52:03.065471Z",
     "iopub.status.idle": "2023-05-28T20:52:03.077901Z",
     "shell.execute_reply": "2023-05-28T20:52:03.076585Z"
    },
    "jupyter": {
     "outputs_hidden": true
    },
    "papermill": {
     "duration": 0.019773,
     "end_time": "2023-05-28T20:52:03.079777",
     "exception": false,
     "start_time": "2023-05-28T20:52:03.060004",
     "status": "completed"
    },
    "tags": []
   },
   "outputs": [
    {
     "data": {
      "text/plain": [
       "{'a': 1,\n",
       " 'b': 2,\n",
       " 'c': 3,\n",
       " 'd': 4,\n",
       " 'e': 5,\n",
       " 'f': 6,\n",
       " 'g': 7,\n",
       " 'h': 8,\n",
       " 'i': 9,\n",
       " 'j': 10,\n",
       " 'k': 11,\n",
       " 'l': 12,\n",
       " 'm': 13,\n",
       " 'n': 14,\n",
       " 'o': 15,\n",
       " 'p': 16,\n",
       " 'q': 17,\n",
       " 'r': 18,\n",
       " 's': 19,\n",
       " 't': 20,\n",
       " 'u': 21,\n",
       " 'v': 22,\n",
       " 'w': 23,\n",
       " 'x': 24,\n",
       " 'y': 25,\n",
       " 'z': 26,\n",
       " '.': 0}"
      ]
     },
     "execution_count": 4,
     "metadata": {},
     "output_type": "execute_result"
    }
   ],
   "source": [
    "chars = sorted(list(set(''.join(words))))\n",
    "stoi = {s:i+1 for i,s in enumerate(chars)}\n",
    "stoi['.'] = 0\n",
    "stoi"
   ]
  },
  {
   "cell_type": "code",
   "execution_count": 5,
   "id": "96adb89a",
   "metadata": {
    "_cell_guid": "b1076dfc-b9ad-4769-8c92-a6c4dae69d19",
    "_uuid": "8f2839f25d086af736a60e9eeb907d3b93b6e0e5",
    "execution": {
     "iopub.execute_input": "2023-05-28T20:52:03.089884Z",
     "iopub.status.busy": "2023-05-28T20:52:03.089512Z",
     "iopub.status.idle": "2023-05-28T20:52:03.096143Z",
     "shell.execute_reply": "2023-05-28T20:52:03.095000Z"
    },
    "papermill": {
     "duration": 0.013834,
     "end_time": "2023-05-28T20:52:03.098066",
     "exception": false,
     "start_time": "2023-05-28T20:52:03.084232",
     "status": "completed"
    },
    "tags": []
   },
   "outputs": [
    {
     "name": "stdout",
     "output_type": "stream",
     "text": [
      ". e\n",
      "e m\n",
      "m m\n",
      "m a\n",
      "a .\n"
     ]
    }
   ],
   "source": [
    "# Create the training set of all the bigrams\n",
    "xs, ys = [], [] # inputs, outputs\n",
    "for w in words[:1] :\n",
    "    chs = ['.'] + list(w) + ['.']\n",
    "    for ch1, ch2 in zip(chs, chs[1:]) :\n",
    "        ix1 = stoi[ch1]\n",
    "        ix2 = stoi[ch2]\n",
    "        print(ch1, ch2)\n",
    "        xs.append(ix1)\n",
    "        ys.append(ix2)"
   ]
  },
  {
   "cell_type": "code",
   "execution_count": 6,
   "id": "d1738b4a",
   "metadata": {
    "execution": {
     "iopub.execute_input": "2023-05-28T20:52:03.109977Z",
     "iopub.status.busy": "2023-05-28T20:52:03.109611Z",
     "iopub.status.idle": "2023-05-28T20:52:03.164918Z",
     "shell.execute_reply": "2023-05-28T20:52:03.163239Z"
    },
    "papermill": {
     "duration": 0.065047,
     "end_time": "2023-05-28T20:52:03.167539",
     "exception": false,
     "start_time": "2023-05-28T20:52:03.102492",
     "status": "completed"
    },
    "tags": []
   },
   "outputs": [
    {
     "data": {
      "text/plain": [
       "(tensor([ 0,  5, 13, 13,  1]), tensor([ 5, 13, 13,  1,  0]))"
      ]
     },
     "execution_count": 6,
     "metadata": {},
     "output_type": "execute_result"
    }
   ],
   "source": [
    "xs = torch.tensor(xs) # input\n",
    "ys = torch.tensor(ys) # desired output (+1 char)\n",
    "xs, ys"
   ]
  },
  {
   "cell_type": "code",
   "execution_count": 7,
   "id": "ace66f65",
   "metadata": {
    "execution": {
     "iopub.execute_input": "2023-05-28T20:52:03.178431Z",
     "iopub.status.busy": "2023-05-28T20:52:03.178107Z",
     "iopub.status.idle": "2023-05-28T20:52:03.181669Z",
     "shell.execute_reply": "2023-05-28T20:52:03.180866Z"
    },
    "papermill": {
     "duration": 0.011743,
     "end_time": "2023-05-28T20:52:03.184011",
     "exception": false,
     "start_time": "2023-05-28T20:52:03.172268",
     "status": "completed"
    },
    "tags": []
   },
   "outputs": [],
   "source": [
    "# input = 27 one hot (de 5)\n",
    "# 1 layer of 27 neurons that embed the onehot to float.\n",
    "# 1 output of 27 neurons that is one_hot result (de 5) "
   ]
  },
  {
   "cell_type": "code",
   "execution_count": 8,
   "id": "f49d85d8",
   "metadata": {
    "execution": {
     "iopub.execute_input": "2023-05-28T20:52:03.195071Z",
     "iopub.status.busy": "2023-05-28T20:52:03.194729Z",
     "iopub.status.idle": "2023-05-28T20:52:03.270857Z",
     "shell.execute_reply": "2023-05-28T20:52:03.269660Z"
    },
    "papermill": {
     "duration": 0.083953,
     "end_time": "2023-05-28T20:52:03.272875",
     "exception": false,
     "start_time": "2023-05-28T20:52:03.188922",
     "status": "completed"
    },
    "tags": []
   },
   "outputs": [
    {
     "data": {
      "text/plain": [
       "tensor([[1., 0., 0., 0., 0., 0., 0., 0., 0., 0., 0., 0., 0., 0., 0., 0., 0., 0.,\n",
       "         0., 0., 0., 0., 0., 0., 0., 0., 0.],\n",
       "        [0., 0., 0., 0., 0., 1., 0., 0., 0., 0., 0., 0., 0., 0., 0., 0., 0., 0.,\n",
       "         0., 0., 0., 0., 0., 0., 0., 0., 0.],\n",
       "        [0., 0., 0., 0., 0., 0., 0., 0., 0., 0., 0., 0., 0., 1., 0., 0., 0., 0.,\n",
       "         0., 0., 0., 0., 0., 0., 0., 0., 0.],\n",
       "        [0., 0., 0., 0., 0., 0., 0., 0., 0., 0., 0., 0., 0., 1., 0., 0., 0., 0.,\n",
       "         0., 0., 0., 0., 0., 0., 0., 0., 0.],\n",
       "        [0., 1., 0., 0., 0., 0., 0., 0., 0., 0., 0., 0., 0., 0., 0., 0., 0., 0.,\n",
       "         0., 0., 0., 0., 0., 0., 0., 0., 0.]])"
      ]
     },
     "execution_count": 8,
     "metadata": {},
     "output_type": "execute_result"
    }
   ],
   "source": [
    "# input neurons as one_hot\n",
    "xenc = F.one_hot(xs, num_classes=27).float()\n",
    "xenc"
   ]
  },
  {
   "cell_type": "code",
   "execution_count": 9,
   "id": "156545c0",
   "metadata": {
    "execution": {
     "iopub.execute_input": "2023-05-28T20:52:03.284939Z",
     "iopub.status.busy": "2023-05-28T20:52:03.283667Z",
     "iopub.status.idle": "2023-05-28T20:52:03.471929Z",
     "shell.execute_reply": "2023-05-28T20:52:03.470407Z"
    },
    "papermill": {
     "duration": 0.196521,
     "end_time": "2023-05-28T20:52:03.474235",
     "exception": false,
     "start_time": "2023-05-28T20:52:03.277714",
     "status": "completed"
    },
    "tags": []
   },
   "outputs": [
    {
     "data": {
      "text/plain": [
       "<matplotlib.image.AxesImage at 0x7c68654ea590>"
      ]
     },
     "execution_count": 9,
     "metadata": {},
     "output_type": "execute_result"
    },
    {
     "data": {
      "image/png": "[encoded data removed]",
      "text/plain": [
       "<Figure size 640x480 with 1 Axes>"
      ]
     },
     "metadata": {},
     "output_type": "display_data"
    }
   ],
   "source": [
    "plt.imshow(xenc) # input as one_hot vector"
   ]
  },
  {
   "cell_type": "code",
   "execution_count": 10,
   "id": "977f90aa",
   "metadata": {
    "execution": {
     "iopub.execute_input": "2023-05-28T20:52:03.485821Z",
     "iopub.status.busy": "2023-05-28T20:52:03.485421Z",
     "iopub.status.idle": "2023-05-28T20:52:03.516438Z",
     "shell.execute_reply": "2023-05-28T20:52:03.515513Z"
    },
    "papermill": {
     "duration": 0.039278,
     "end_time": "2023-05-28T20:52:03.518736",
     "exception": false,
     "start_time": "2023-05-28T20:52:03.479458",
     "status": "completed"
    },
    "tags": []
   },
   "outputs": [
    {
     "data": {
      "text/plain": [
       "tensor([[ 1.1277,  0.7924,  0.2405,  0.6036,  1.1364,  0.5923,  1.8339,  5.7794,\n",
       "          2.2606,  1.0068,  0.3647,  1.8375,  0.2896,  0.9189,  3.3069,  2.6562,\n",
       "          0.3842, 10.6600,  2.9807,  2.6020,  1.2158,  0.5745,  0.8366,  1.0415,\n",
       "          1.2287,  5.7228,  0.3382],\n",
       "        [ 1.0423,  2.8240,  3.8605,  0.3008,  1.5671,  0.3897,  0.4499,  0.8871,\n",
       "          2.1391,  1.7771,  0.3015,  2.2664,  2.2150,  0.8389,  0.4896,  3.4855,\n",
       "          4.5650,  0.9048,  0.3180,  1.2987,  3.7580,  3.0427,  2.1624,  0.6314,\n",
       "          0.0914,  0.5489, 10.4315],\n",
       "        [ 0.5332,  0.4403,  4.8669,  6.2667,  4.3952,  1.6642,  4.2988,  0.8486,\n",
       "          0.5686,  2.4200,  0.4168,  3.5823,  1.4072,  0.3114, 18.0384,  0.3735,\n",
       "          1.6329,  0.5404,  2.4544,  0.4053,  1.6724,  0.3741,  3.0460,  4.5608,\n",
       "          0.6513,  0.4686,  0.3061],\n",
       "        [ 0.5332,  0.4403,  4.8669,  6.2667,  4.3952,  1.6642,  4.2988,  0.8486,\n",
       "          0.5686,  2.4200,  0.4168,  3.5823,  1.4072,  0.3114, 18.0384,  0.3735,\n",
       "          1.6329,  0.5404,  2.4544,  0.4053,  1.6724,  0.3741,  3.0460,  4.5608,\n",
       "          0.6513,  0.4686,  0.3061],\n",
       "        [ 1.2345,  2.8056,  2.1850,  0.6004,  0.7855,  1.2557,  1.1299,  1.1229,\n",
       "          0.5457,  1.1978,  2.1764,  0.6483,  5.8092,  2.0138,  1.2244,  3.0881,\n",
       "          0.3218, 30.2530,  3.5819,  4.7700,  0.4418,  1.2016,  0.3334,  0.7148,\n",
       "          6.0594,  0.9138,  1.1720]])"
      ]
     },
     "execution_count": 10,
     "metadata": {},
     "output_type": "execute_result"
    }
   ],
   "source": [
    "# Initialised Neural Network\n",
    "neuronsNb = 27\n",
    "W = torch.randn((neuronsNb, neuronsNb)) # 2 layers of 27 neurons (last layer is output)\n",
    "# Multiply input onhot to factored weights. Then exp the result to have results>0. (c'est un softmax manuel pour avoir des probs)\n",
    "counts = (xenc @ W).exp() # matrice mul : (5, 27) @ (27, 27) -> (5, 27)\n",
    "counts"
   ]
  },
  {
   "cell_type": "code",
   "execution_count": 11,
   "id": "00d2b271",
   "metadata": {
    "execution": {
     "iopub.execute_input": "2023-05-28T20:52:03.530772Z",
     "iopub.status.busy": "2023-05-28T20:52:03.530407Z",
     "iopub.status.idle": "2023-05-28T20:52:03.540045Z",
     "shell.execute_reply": "2023-05-28T20:52:03.539236Z"
    },
    "papermill": {
     "duration": 0.018815,
     "end_time": "2023-05-28T20:52:03.542742",
     "exception": false,
     "start_time": "2023-05-28T20:52:03.523927",
     "status": "completed"
    },
    "tags": []
   },
   "outputs": [
    {
     "data": {
      "text/plain": [
       "tensor([[0.0215, 0.0151, 0.0046, 0.0115, 0.0217, 0.0113, 0.0350, 0.1104, 0.0432,\n",
       "         0.0192, 0.0070, 0.0351, 0.0055, 0.0176, 0.0632, 0.0508, 0.0073, 0.2037,\n",
       "         0.0570, 0.0497, 0.0232, 0.0110, 0.0160, 0.0199, 0.0235, 0.1094, 0.0065],\n",
       "        [0.0198, 0.0537, 0.0734, 0.0057, 0.0298, 0.0074, 0.0086, 0.0169, 0.0407,\n",
       "         0.0338, 0.0057, 0.0431, 0.0421, 0.0160, 0.0093, 0.0663, 0.0868, 0.0172,\n",
       "         0.0060, 0.0247, 0.0715, 0.0579, 0.0411, 0.0120, 0.0017, 0.0104, 0.1984],\n",
       "        [0.0080, 0.0066, 0.0731, 0.0942, 0.0660, 0.0250, 0.0646, 0.0128, 0.0085,\n",
       "         0.0364, 0.0063, 0.0538, 0.0211, 0.0047, 0.2711, 0.0056, 0.0245, 0.0081,\n",
       "         0.0369, 0.0061, 0.0251, 0.0056, 0.0458, 0.0685, 0.0098, 0.0070, 0.0046],\n",
       "        [0.0080, 0.0066, 0.0731, 0.0942, 0.0660, 0.0250, 0.0646, 0.0128, 0.0085,\n",
       "         0.0364, 0.0063, 0.0538, 0.0211, 0.0047, 0.2711, 0.0056, 0.0245, 0.0081,\n",
       "         0.0369, 0.0061, 0.0251, 0.0056, 0.0458, 0.0685, 0.0098, 0.0070, 0.0046],\n",
       "        [0.0159, 0.0362, 0.0282, 0.0077, 0.0101, 0.0162, 0.0146, 0.0145, 0.0070,\n",
       "         0.0154, 0.0281, 0.0084, 0.0749, 0.0260, 0.0158, 0.0398, 0.0041, 0.3899,\n",
       "         0.0462, 0.0615, 0.0057, 0.0155, 0.0043, 0.0092, 0.0781, 0.0118, 0.0151]])"
      ]
     },
     "execution_count": 11,
     "metadata": {},
     "output_type": "execute_result"
    }
   ],
   "source": [
    "# We can get the probability matrice from the (27, 27) weights!\n",
    "countSum = counts.sum(1, keepdims=True)\n",
    "probs = counts / countSum # probs for next char (softmaxing)\n",
    "probs"
   ]
  },
  {
   "cell_type": "code",
   "execution_count": 12,
   "id": "a641dbc0",
   "metadata": {
    "execution": {
     "iopub.execute_input": "2023-05-28T20:52:03.555955Z",
     "iopub.status.busy": "2023-05-28T20:52:03.555565Z",
     "iopub.status.idle": "2023-05-28T20:52:03.570138Z",
     "shell.execute_reply": "2023-05-28T20:52:03.568328Z"
    },
    "papermill": {
     "duration": 0.024221,
     "end_time": "2023-05-28T20:52:03.572519",
     "exception": false,
     "start_time": "2023-05-28T20:52:03.548298",
     "status": "completed"
    },
    "tags": []
   },
   "outputs": [
    {
     "name": "stdout",
     "output_type": "stream",
     "text": [
      "prob  0.011318865232169628\n",
      "loss =  4.4812846183776855\n",
      "prob  0.01595274731516838\n",
      "loss =  4.138123989105225\n",
      "prob  0.004679189994931221\n",
      "loss =  5.364630222320557\n",
      "prob  0.006616814527660608\n",
      "loss =  5.018141269683838\n",
      "prob  0.015911461785435677\n",
      "loss =  4.140715599060059\n",
      "========================\n",
      "loss =  4.628579139709473\n"
     ]
    }
   ],
   "source": [
    "# loss computing\n",
    "nlls = torch.zeros(5)\n",
    "for i in range(5) :\n",
    "    x = xs[i].item()\n",
    "    y = ys[i].item()\n",
    "    p = probs[i, y]\n",
    "    print(\"prob \", p.item())\n",
    "    nll = -torch.log(p) # negative log likelihood (loss)\n",
    "    print(\"loss = \", nll.item())\n",
    "    nlls[i] = nll\n",
    "    \n",
    "print(\"========================\")\n",
    "print(\"loss = \", nlls.mean().item())"
   ]
  },
  {
   "cell_type": "code",
   "execution_count": 13,
   "id": "8faefeac",
   "metadata": {
    "execution": {
     "iopub.execute_input": "2023-05-28T20:52:03.585917Z",
     "iopub.status.busy": "2023-05-28T20:52:03.584493Z",
     "iopub.status.idle": "2023-05-28T20:52:03.599116Z",
     "shell.execute_reply": "2023-05-28T20:52:03.597281Z"
    },
    "papermill": {
     "duration": 0.023752,
     "end_time": "2023-05-28T20:52:03.601749",
     "exception": false,
     "start_time": "2023-05-28T20:52:03.577997",
     "status": "completed"
    },
    "tags": []
   },
   "outputs": [
    {
     "data": {
      "text/plain": [
       "tensor([0.0113, 0.0160, 0.0047, 0.0066, 0.0159])"
      ]
     },
     "execution_count": 13,
     "metadata": {},
     "output_type": "execute_result"
    }
   ],
   "source": [
    "probs[torch.arange(5), ys] # pour chaque probs (les 5), récupère la probability du desired char ys\n",
    "# We have terrible prob"
   ]
  },
  {
   "cell_type": "code",
   "execution_count": 14,
   "id": "75b3bd5c",
   "metadata": {
    "execution": {
     "iopub.execute_input": "2023-05-28T20:52:03.614225Z",
     "iopub.status.busy": "2023-05-28T20:52:03.613847Z",
     "iopub.status.idle": "2023-05-28T20:52:03.619185Z",
     "shell.execute_reply": "2023-05-28T20:52:03.618034Z"
    },
    "papermill": {
     "duration": 0.013795,
     "end_time": "2023-05-28T20:52:03.621095",
     "exception": false,
     "start_time": "2023-05-28T20:52:03.607300",
     "status": "completed"
    },
    "tags": []
   },
   "outputs": [],
   "source": [
    "#Let's restart and train !\n",
    "W = torch.randn((neuronsNb, neuronsNb), requires_grad=True)"
   ]
  },
  {
   "cell_type": "code",
   "execution_count": 15,
   "id": "3c679180",
   "metadata": {
    "execution": {
     "iopub.execute_input": "2023-05-28T20:52:03.633994Z",
     "iopub.status.busy": "2023-05-28T20:52:03.633659Z",
     "iopub.status.idle": "2023-05-28T20:52:03.849354Z",
     "shell.execute_reply": "2023-05-28T20:52:03.847713Z"
    },
    "papermill": {
     "duration": 0.22468,
     "end_time": "2023-05-28T20:52:03.851551",
     "exception": false,
     "start_time": "2023-05-28T20:52:03.626871",
     "status": "completed"
    },
    "tags": []
   },
   "outputs": [
    {
     "name": "stdout",
     "output_type": "stream",
     "text": [
      "number of example =  228146\n"
     ]
    }
   ],
   "source": [
    "# Create the training set of all the bigrams\n",
    "xs, ys = [], [] # inputs, outputs\n",
    "for w in words :\n",
    "    chs = ['.'] + list(w) + ['.']\n",
    "    for ch1, ch2 in zip(chs, chs[1:]) :\n",
    "        ix1 = stoi[ch1]\n",
    "        ix2 = stoi[ch2]\n",
    "        xs.append(ix1)\n",
    "        ys.append(ix2)\n",
    "\n",
    "xs = torch.tensor(xs) # input\n",
    "ys = torch.tensor(ys) # desired output (+1 char)\n",
    "num = xs.nelement()\n",
    "print(\"number of example = \", num)"
   ]
  },
  {
   "cell_type": "code",
   "execution_count": 16,
   "id": "5752282d",
   "metadata": {
    "execution": {
     "iopub.execute_input": "2023-05-28T20:52:03.864727Z",
     "iopub.status.busy": "2023-05-28T20:52:03.864311Z",
     "iopub.status.idle": "2023-05-28T20:52:10.062087Z",
     "shell.execute_reply": "2023-05-28T20:52:10.060588Z"
    },
    "papermill": {
     "duration": 6.208703,
     "end_time": "2023-05-28T20:52:10.066141",
     "exception": false,
     "start_time": "2023-05-28T20:52:03.857438",
     "status": "completed"
    },
    "tags": []
   },
   "outputs": [
    {
     "name": "stdout",
     "output_type": "stream",
     "text": [
      "2.473555326461792\n"
     ]
    }
   ],
   "source": [
    "# Training\n",
    "lossPoint = []\n",
    "for k in range(100) :\n",
    "    # forward pass\n",
    "    xenc = F.one_hot(xs, num_classes=27).float()\n",
    "    counts = (xenc @ W).exp()\n",
    "    probs = counts / counts.sum(1, keepdims=True)\n",
    "    loss = -probs[torch.arange(num), ys].log().mean()\n",
    "    lossPoint.append(loss.item())\n",
    "    # backward pass\n",
    "    W.grad = None\n",
    "    loss.backward()\n",
    "    # Fitness the neural net\n",
    "    W.data -= 50 * W.grad\n",
    "\n",
    "print(loss.item())"
   ]
  },
  {
   "cell_type": "code",
   "execution_count": 17,
   "id": "96683ff9",
   "metadata": {
    "execution": {
     "iopub.execute_input": "2023-05-28T20:52:10.078948Z",
     "iopub.status.busy": "2023-05-28T20:52:10.078573Z",
     "iopub.status.idle": "2023-05-28T20:52:10.275513Z",
     "shell.execute_reply": "2023-05-28T20:52:10.274709Z"
    },
    "papermill": {
     "duration": 0.205333,
     "end_time": "2023-05-28T20:52:10.277332",
     "exception": false,
     "start_time": "2023-05-28T20:52:10.071999",
     "status": "completed"
    },
    "tags": []
   },
   "outputs": [
    {
     "data": {
      "text/plain": [
       "[<matplotlib.lines.Line2D at 0x7c686342bca0>]"
      ]
     },
     "execution_count": 17,
     "metadata": {},
     "output_type": "execute_result"
    },
    {
     "data": {
      "image/png": "[encoded data removed]",
      "text/plain": [
       "<Figure size 640x480 with 1 Axes>"
      ]
     },
     "metadata": {},
     "output_type": "display_data"
    }
   ],
   "source": [
    "plt.plot(torch.arange(len(lossPoint)), lossPoint)"
   ]
  },
  {
   "cell_type": "code",
   "execution_count": 18,
   "id": "6f60eb6a",
   "metadata": {
    "execution": {
     "iopub.execute_input": "2023-05-28T20:52:10.292432Z",
     "iopub.status.busy": "2023-05-28T20:52:10.291853Z",
     "iopub.status.idle": "2023-05-28T20:52:10.310488Z",
     "shell.execute_reply": "2023-05-28T20:52:10.309326Z"
    },
    "papermill": {
     "duration": 0.028518,
     "end_time": "2023-05-28T20:52:10.312529",
     "exception": false,
     "start_time": "2023-05-28T20:52:10.284011",
     "status": "completed"
    },
    "tags": []
   },
   "outputs": [
    {
     "name": "stdout",
     "output_type": "stream",
     "text": [
      "bullyodenelstrig.\n"
     ]
    }
   ],
   "source": [
    "# Let's try this model !\n",
    "out = []\n",
    "ix = 0\n",
    "itos = {i+1:s for i,s in enumerate(chars)}\n",
    "itos[0] = '.'\n",
    "while True :\n",
    "    xenc = F.one_hot(torch.tensor([ix]), num_classes=27).float()\n",
    "    counts = (xenc @ W).exp() # Doit probablement être optimizable car beaucoup de multiplication par 0\n",
    "    probs = counts / counts.sum(1, keepdims=True)\n",
    "    # probs to oneHot the output (randomized from prob)\n",
    "    ix = torch.multinomial(probs, num_samples=1, replacement=True).item()\n",
    "    out.append(itos[ix])\n",
    "    if itos[ix] == '.' :\n",
    "        break\n",
    "print(''.join(out))"
   ]
  }
 ],
 "metadata": {
  "kernelspec": {
   "display_name": "Python 3",
   "language": "python",
   "name": "python3"
  },
  "language_info": {
   "codemirror_mode": {
    "name": "ipython",
    "version": 3
   },
   "file_extension": ".py",
   "mimetype": "text/x-python",
   "name": "python",
   "nbconvert_exporter": "python",
   "pygments_lexer": "ipython3",
   "version": "3.10.10"
  },
  "papermill": {
   "default_parameters": {},
   "duration": 22.232257,
   "end_time": "2023-05-28T20:52:11.642537",
   "environment_variables": {},
   "exception": null,
   "input_path": "__notebook__.ipynb",
   "output_path": "__notebook__.ipynb",
   "parameters": {},
   "start_time": "2023-05-28T20:51:49.410280",
   "version": "2.4.0"
  }
 },
 "nbformat": 4,
 "nbformat_minor": 5
}
